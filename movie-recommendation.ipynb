{
 "cells": [
  {
   "cell_type": "markdown",
   "id": "58a2b082",
   "metadata": {
    "papermill": {
     "duration": 0.014224,
     "end_time": "2023-06-19T19:21:47.915711",
     "exception": false,
     "start_time": "2023-06-19T19:21:47.901487",
     "status": "completed"
    },
    "tags": []
   },
   "source": [
    "Movie Recommendation System"
   ]
  },
  {
   "cell_type": "markdown",
   "id": "70f3bacc",
   "metadata": {
    "papermill": {
     "duration": 0.011765,
     "end_time": "2023-06-19T19:21:47.939667",
     "exception": false,
     "start_time": "2023-06-19T19:21:47.927902",
     "status": "completed"
    },
    "tags": []
   },
   "source": [
    "Recommender System - is a system that seeks to predict or filter preferences according to the user's choices. Recommender systems are utilized in a variety of areas including movies, music, news, books, research articles, search queries, social tags, and products in general.\n",
    "\n",
    "Recommender systems produce a list of recommendations in any of the two ways -\n",
    "\n",
    "1.) Collaborative filtering: Collaborative filtering approaches build a model from the user's past behavior (i.e. items purchased or searched by the user) as well as similar decisions made by other users. This model is then used to predict items (or ratings for items) that users may have an intrerst in.\n",
    "\n",
    "2.)Content-based filtering: Content-based filtering approaches uses a series of discrete characteristics of an item in order to recommend additional items with similar properties. Content-based filtering methods are totally based on a description of the item and a profile of the user's preferences. It recommends items based on the user's past preferences. Let's develop a basic recommendation system using Python and Pandas. Let's develop a basic recommendation system by suggesting items that are most similar to a particular item, in this case, movies. It just tells what movies/items are most similar to the user's movie choice."
   ]
  },
  {
   "cell_type": "markdown",
   "id": "697a4a1f",
   "metadata": {
    "papermill": {
     "duration": 0.011677,
     "end_time": "2023-06-19T19:21:47.963344",
     "exception": false,
     "start_time": "2023-06-19T19:21:47.951667",
     "status": "completed"
    },
    "tags": []
   },
   "source": [
    "Import Library"
   ]
  },
  {
   "cell_type": "code",
   "execution_count": 1,
   "id": "4cb035f1",
   "metadata": {
    "execution": {
     "iopub.execute_input": "2023-06-19T19:21:47.989791Z",
     "iopub.status.busy": "2023-06-19T19:21:47.988912Z",
     "iopub.status.idle": "2023-06-19T19:21:48.004254Z",
     "shell.execute_reply": "2023-06-19T19:21:48.003504Z"
    },
    "papermill": {
     "duration": 0.031302,
     "end_time": "2023-06-19T19:21:48.006549",
     "exception": false,
     "start_time": "2023-06-19T19:21:47.975247",
     "status": "completed"
    },
    "tags": []
   },
   "outputs": [],
   "source": [
    "import pandas as pd"
   ]
  },
  {
   "cell_type": "code",
   "execution_count": 2,
   "id": "5809923e",
   "metadata": {
    "execution": {
     "iopub.execute_input": "2023-06-19T19:21:48.032389Z",
     "iopub.status.busy": "2023-06-19T19:21:48.032015Z",
     "iopub.status.idle": "2023-06-19T19:21:48.036617Z",
     "shell.execute_reply": "2023-06-19T19:21:48.035467Z"
    },
    "papermill": {
     "duration": 0.020107,
     "end_time": "2023-06-19T19:21:48.038782",
     "exception": false,
     "start_time": "2023-06-19T19:21:48.018675",
     "status": "completed"
    },
    "tags": []
   },
   "outputs": [],
   "source": [
    "import numpy as np"
   ]
  },
  {
   "cell_type": "markdown",
   "id": "8a713b5f",
   "metadata": {
    "papermill": {
     "duration": 0.011699,
     "end_time": "2023-06-19T19:21:48.062512",
     "exception": false,
     "start_time": "2023-06-19T19:21:48.050813",
     "status": "completed"
    },
    "tags": []
   },
   "source": [
    "Import Dataset"
   ]
  },
  {
   "cell_type": "code",
   "execution_count": 3,
   "id": "bc8693a6",
   "metadata": {
    "execution": {
     "iopub.execute_input": "2023-06-19T19:21:48.088507Z",
     "iopub.status.busy": "2023-06-19T19:21:48.087654Z",
     "iopub.status.idle": "2023-06-19T19:21:49.394234Z",
     "shell.execute_reply": "2023-06-19T19:21:49.392794Z"
    },
    "papermill": {
     "duration": 1.323302,
     "end_time": "2023-06-19T19:21:49.397671",
     "exception": false,
     "start_time": "2023-06-19T19:21:48.074369",
     "status": "completed"
    },
    "tags": []
   },
   "outputs": [],
   "source": [
    "df = pd.read_csv(r'https://raw.githubusercontent.com/YBI-Foundation/Dataset/main/Movies%20Recommendation.csv')"
   ]
  },
  {
   "cell_type": "markdown",
   "id": "8e59dd6a",
   "metadata": {
    "papermill": {
     "duration": 0.01251,
     "end_time": "2023-06-19T19:21:49.424019",
     "exception": false,
     "start_time": "2023-06-19T19:21:49.411509",
     "status": "completed"
    },
    "tags": []
   },
   "source": []
  },
  {
   "cell_type": "code",
   "execution_count": 4,
   "id": "1616f4df",
   "metadata": {
    "execution": {
     "iopub.execute_input": "2023-06-19T19:21:49.452721Z",
     "iopub.status.busy": "2023-06-19T19:21:49.452331Z",
     "iopub.status.idle": "2023-06-19T19:21:49.504210Z",
     "shell.execute_reply": "2023-06-19T19:21:49.502920Z"
    },
    "papermill": {
     "duration": 0.070942,
     "end_time": "2023-06-19T19:21:49.508109",
     "exception": false,
     "start_time": "2023-06-19T19:21:49.437167",
     "status": "completed"
    },
    "tags": []
   },
   "outputs": [
    {
     "data": {
      "text/html": [
       "<div>\n",
       "<style scoped>\n",
       "    .dataframe tbody tr th:only-of-type {\n",
       "        vertical-align: middle;\n",
       "    }\n",
       "\n",
       "    .dataframe tbody tr th {\n",
       "        vertical-align: top;\n",
       "    }\n",
       "\n",
       "    .dataframe thead th {\n",
       "        text-align: right;\n",
       "    }\n",
       "</style>\n",
       "<table border=\"1\" class=\"dataframe\">\n",
       "  <thead>\n",
       "    <tr style=\"text-align: right;\">\n",
       "      <th></th>\n",
       "      <th>Movie_ID</th>\n",
       "      <th>Movie_Title</th>\n",
       "      <th>Movie_Genre</th>\n",
       "      <th>Movie_Language</th>\n",
       "      <th>Movie_Budget</th>\n",
       "      <th>Movie_Popularity</th>\n",
       "      <th>Movie_Release_Date</th>\n",
       "      <th>Movie_Revenue</th>\n",
       "      <th>Movie_Runtime</th>\n",
       "      <th>Movie_Vote</th>\n",
       "      <th>...</th>\n",
       "      <th>Movie_Homepage</th>\n",
       "      <th>Movie_Keywords</th>\n",
       "      <th>Movie_Overview</th>\n",
       "      <th>Movie_Production_House</th>\n",
       "      <th>Movie_Production_Country</th>\n",
       "      <th>Movie_Spoken_Language</th>\n",
       "      <th>Movie_Tagline</th>\n",
       "      <th>Movie_Cast</th>\n",
       "      <th>Movie_Crew</th>\n",
       "      <th>Movie_Director</th>\n",
       "    </tr>\n",
       "  </thead>\n",
       "  <tbody>\n",
       "    <tr>\n",
       "      <th>0</th>\n",
       "      <td>1</td>\n",
       "      <td>Four Rooms</td>\n",
       "      <td>Crime Comedy</td>\n",
       "      <td>en</td>\n",
       "      <td>4000000</td>\n",
       "      <td>22.876230</td>\n",
       "      <td>09-12-1995</td>\n",
       "      <td>4300000</td>\n",
       "      <td>98.0</td>\n",
       "      <td>6.5</td>\n",
       "      <td>...</td>\n",
       "      <td>NaN</td>\n",
       "      <td>hotel new year's eve witch bet hotel room</td>\n",
       "      <td>It's Ted the Bellhop's first night on the job....</td>\n",
       "      <td>[{\"name\": \"Miramax Films\", \"id\": 14}, {\"name\":...</td>\n",
       "      <td>[{\"iso_3166_1\": \"US\", \"name\": \"United States o...</td>\n",
       "      <td>[{\"iso_639_1\": \"en\", \"name\": \"English\"}]</td>\n",
       "      <td>Twelve outrageous guests. Four scandalous requ...</td>\n",
       "      <td>Tim Roth Antonio Banderas Jennifer Beals Madon...</td>\n",
       "      <td>[{'name': 'Allison Anders', 'gender': 1, 'depa...</td>\n",
       "      <td>Allison Anders</td>\n",
       "    </tr>\n",
       "    <tr>\n",
       "      <th>1</th>\n",
       "      <td>2</td>\n",
       "      <td>Star Wars</td>\n",
       "      <td>Adventure Action Science Fiction</td>\n",
       "      <td>en</td>\n",
       "      <td>11000000</td>\n",
       "      <td>126.393695</td>\n",
       "      <td>25-05-1977</td>\n",
       "      <td>775398007</td>\n",
       "      <td>121.0</td>\n",
       "      <td>8.1</td>\n",
       "      <td>...</td>\n",
       "      <td>http://www.starwars.com/films/star-wars-episod...</td>\n",
       "      <td>android galaxy hermit death star lightsaber</td>\n",
       "      <td>Princess Leia is captured and held hostage by ...</td>\n",
       "      <td>[{\"name\": \"Lucasfilm\", \"id\": 1}, {\"name\": \"Twe...</td>\n",
       "      <td>[{\"iso_3166_1\": \"US\", \"name\": \"United States o...</td>\n",
       "      <td>[{\"iso_639_1\": \"en\", \"name\": \"English\"}]</td>\n",
       "      <td>A long time ago in a galaxy far, far away...</td>\n",
       "      <td>Mark Hamill Harrison Ford Carrie Fisher Peter ...</td>\n",
       "      <td>[{'name': 'George Lucas', 'gender': 2, 'depart...</td>\n",
       "      <td>George Lucas</td>\n",
       "    </tr>\n",
       "    <tr>\n",
       "      <th>2</th>\n",
       "      <td>3</td>\n",
       "      <td>Finding Nemo</td>\n",
       "      <td>Animation Family</td>\n",
       "      <td>en</td>\n",
       "      <td>94000000</td>\n",
       "      <td>85.688789</td>\n",
       "      <td>30-05-2003</td>\n",
       "      <td>940335536</td>\n",
       "      <td>100.0</td>\n",
       "      <td>7.6</td>\n",
       "      <td>...</td>\n",
       "      <td>http://movies.disney.com/finding-nemo</td>\n",
       "      <td>father son relationship harbor underwater fish...</td>\n",
       "      <td>Nemo, an adventurous young clownfish, is unexp...</td>\n",
       "      <td>[{\"name\": \"Pixar Animation Studios\", \"id\": 3}]</td>\n",
       "      <td>[{\"iso_3166_1\": \"US\", \"name\": \"United States o...</td>\n",
       "      <td>[{\"iso_639_1\": \"en\", \"name\": \"English\"}]</td>\n",
       "      <td>There are 3.7 trillion fish in the ocean, they...</td>\n",
       "      <td>Albert Brooks Ellen DeGeneres Alexander Gould ...</td>\n",
       "      <td>[{'name': 'Andrew Stanton', 'gender': 2, 'depa...</td>\n",
       "      <td>Andrew Stanton</td>\n",
       "    </tr>\n",
       "    <tr>\n",
       "      <th>3</th>\n",
       "      <td>4</td>\n",
       "      <td>Forrest Gump</td>\n",
       "      <td>Comedy Drama Romance</td>\n",
       "      <td>en</td>\n",
       "      <td>55000000</td>\n",
       "      <td>138.133331</td>\n",
       "      <td>06-07-1994</td>\n",
       "      <td>677945399</td>\n",
       "      <td>142.0</td>\n",
       "      <td>8.2</td>\n",
       "      <td>...</td>\n",
       "      <td>NaN</td>\n",
       "      <td>vietnam veteran hippie mentally disabled runni...</td>\n",
       "      <td>A man with a low IQ has accomplished great thi...</td>\n",
       "      <td>[{\"name\": \"Paramount Pictures\", \"id\": 4}]</td>\n",
       "      <td>[{\"iso_3166_1\": \"US\", \"name\": \"United States o...</td>\n",
       "      <td>[{\"iso_639_1\": \"en\", \"name\": \"English\"}]</td>\n",
       "      <td>The world will never be the same, once you've ...</td>\n",
       "      <td>Tom Hanks Robin Wright Gary Sinise Mykelti Wil...</td>\n",
       "      <td>[{'name': 'Alan Silvestri', 'gender': 2, 'depa...</td>\n",
       "      <td>Robert Zemeckis</td>\n",
       "    </tr>\n",
       "    <tr>\n",
       "      <th>4</th>\n",
       "      <td>5</td>\n",
       "      <td>American Beauty</td>\n",
       "      <td>Drama</td>\n",
       "      <td>en</td>\n",
       "      <td>15000000</td>\n",
       "      <td>80.878605</td>\n",
       "      <td>15-09-1999</td>\n",
       "      <td>356296601</td>\n",
       "      <td>122.0</td>\n",
       "      <td>7.9</td>\n",
       "      <td>...</td>\n",
       "      <td>http://www.dreamworks.com/ab/</td>\n",
       "      <td>male nudity female nudity adultery midlife cri...</td>\n",
       "      <td>Lester Burnham, a depressed suburban father in...</td>\n",
       "      <td>[{\"name\": \"DreamWorks SKG\", \"id\": 27}, {\"name\"...</td>\n",
       "      <td>[{\"iso_3166_1\": \"US\", \"name\": \"United States o...</td>\n",
       "      <td>[{\"iso_639_1\": \"en\", \"name\": \"English\"}]</td>\n",
       "      <td>Look closer.</td>\n",
       "      <td>Kevin Spacey Annette Bening Thora Birch Wes Be...</td>\n",
       "      <td>[{'name': 'Thomas Newman', 'gender': 2, 'depar...</td>\n",
       "      <td>Sam Mendes</td>\n",
       "    </tr>\n",
       "  </tbody>\n",
       "</table>\n",
       "<p>5 rows × 21 columns</p>\n",
       "</div>"
      ],
      "text/plain": [
       "   Movie_ID      Movie_Title                       Movie_Genre Movie_Language  \\\n",
       "0         1       Four Rooms                      Crime Comedy             en   \n",
       "1         2        Star Wars  Adventure Action Science Fiction             en   \n",
       "2         3     Finding Nemo                  Animation Family             en   \n",
       "3         4     Forrest Gump              Comedy Drama Romance             en   \n",
       "4         5  American Beauty                             Drama             en   \n",
       "\n",
       "   Movie_Budget  Movie_Popularity Movie_Release_Date  Movie_Revenue  \\\n",
       "0       4000000         22.876230         09-12-1995        4300000   \n",
       "1      11000000        126.393695         25-05-1977      775398007   \n",
       "2      94000000         85.688789         30-05-2003      940335536   \n",
       "3      55000000        138.133331         06-07-1994      677945399   \n",
       "4      15000000         80.878605         15-09-1999      356296601   \n",
       "\n",
       "   Movie_Runtime  Movie_Vote  ...  \\\n",
       "0           98.0         6.5  ...   \n",
       "1          121.0         8.1  ...   \n",
       "2          100.0         7.6  ...   \n",
       "3          142.0         8.2  ...   \n",
       "4          122.0         7.9  ...   \n",
       "\n",
       "                                      Movie_Homepage  \\\n",
       "0                                                NaN   \n",
       "1  http://www.starwars.com/films/star-wars-episod...   \n",
       "2              http://movies.disney.com/finding-nemo   \n",
       "3                                                NaN   \n",
       "4                      http://www.dreamworks.com/ab/   \n",
       "\n",
       "                                      Movie_Keywords  \\\n",
       "0          hotel new year's eve witch bet hotel room   \n",
       "1        android galaxy hermit death star lightsaber   \n",
       "2  father son relationship harbor underwater fish...   \n",
       "3  vietnam veteran hippie mentally disabled runni...   \n",
       "4  male nudity female nudity adultery midlife cri...   \n",
       "\n",
       "                                      Movie_Overview  \\\n",
       "0  It's Ted the Bellhop's first night on the job....   \n",
       "1  Princess Leia is captured and held hostage by ...   \n",
       "2  Nemo, an adventurous young clownfish, is unexp...   \n",
       "3  A man with a low IQ has accomplished great thi...   \n",
       "4  Lester Burnham, a depressed suburban father in...   \n",
       "\n",
       "                              Movie_Production_House  \\\n",
       "0  [{\"name\": \"Miramax Films\", \"id\": 14}, {\"name\":...   \n",
       "1  [{\"name\": \"Lucasfilm\", \"id\": 1}, {\"name\": \"Twe...   \n",
       "2     [{\"name\": \"Pixar Animation Studios\", \"id\": 3}]   \n",
       "3          [{\"name\": \"Paramount Pictures\", \"id\": 4}]   \n",
       "4  [{\"name\": \"DreamWorks SKG\", \"id\": 27}, {\"name\"...   \n",
       "\n",
       "                            Movie_Production_Country  \\\n",
       "0  [{\"iso_3166_1\": \"US\", \"name\": \"United States o...   \n",
       "1  [{\"iso_3166_1\": \"US\", \"name\": \"United States o...   \n",
       "2  [{\"iso_3166_1\": \"US\", \"name\": \"United States o...   \n",
       "3  [{\"iso_3166_1\": \"US\", \"name\": \"United States o...   \n",
       "4  [{\"iso_3166_1\": \"US\", \"name\": \"United States o...   \n",
       "\n",
       "                      Movie_Spoken_Language  \\\n",
       "0  [{\"iso_639_1\": \"en\", \"name\": \"English\"}]   \n",
       "1  [{\"iso_639_1\": \"en\", \"name\": \"English\"}]   \n",
       "2  [{\"iso_639_1\": \"en\", \"name\": \"English\"}]   \n",
       "3  [{\"iso_639_1\": \"en\", \"name\": \"English\"}]   \n",
       "4  [{\"iso_639_1\": \"en\", \"name\": \"English\"}]   \n",
       "\n",
       "                                       Movie_Tagline  \\\n",
       "0  Twelve outrageous guests. Four scandalous requ...   \n",
       "1       A long time ago in a galaxy far, far away...   \n",
       "2  There are 3.7 trillion fish in the ocean, they...   \n",
       "3  The world will never be the same, once you've ...   \n",
       "4                                       Look closer.   \n",
       "\n",
       "                                          Movie_Cast  \\\n",
       "0  Tim Roth Antonio Banderas Jennifer Beals Madon...   \n",
       "1  Mark Hamill Harrison Ford Carrie Fisher Peter ...   \n",
       "2  Albert Brooks Ellen DeGeneres Alexander Gould ...   \n",
       "3  Tom Hanks Robin Wright Gary Sinise Mykelti Wil...   \n",
       "4  Kevin Spacey Annette Bening Thora Birch Wes Be...   \n",
       "\n",
       "                                          Movie_Crew   Movie_Director  \n",
       "0  [{'name': 'Allison Anders', 'gender': 1, 'depa...   Allison Anders  \n",
       "1  [{'name': 'George Lucas', 'gender': 2, 'depart...     George Lucas  \n",
       "2  [{'name': 'Andrew Stanton', 'gender': 2, 'depa...   Andrew Stanton  \n",
       "3  [{'name': 'Alan Silvestri', 'gender': 2, 'depa...  Robert Zemeckis  \n",
       "4  [{'name': 'Thomas Newman', 'gender': 2, 'depar...       Sam Mendes  \n",
       "\n",
       "[5 rows x 21 columns]"
      ]
     },
     "execution_count": 4,
     "metadata": {},
     "output_type": "execute_result"
    }
   ],
   "source": [
    "df.head()"
   ]
  },
  {
   "cell_type": "code",
   "execution_count": 5,
   "id": "e219eb3e",
   "metadata": {
    "execution": {
     "iopub.execute_input": "2023-06-19T19:21:49.538530Z",
     "iopub.status.busy": "2023-06-19T19:21:49.538096Z",
     "iopub.status.idle": "2023-06-19T19:21:49.583454Z",
     "shell.execute_reply": "2023-06-19T19:21:49.582457Z"
    },
    "papermill": {
     "duration": 0.062849,
     "end_time": "2023-06-19T19:21:49.586145",
     "exception": false,
     "start_time": "2023-06-19T19:21:49.523296",
     "status": "completed"
    },
    "tags": []
   },
   "outputs": [
    {
     "name": "stdout",
     "output_type": "stream",
     "text": [
      "<class 'pandas.core.frame.DataFrame'>\n",
      "RangeIndex: 4760 entries, 0 to 4759\n",
      "Data columns (total 21 columns):\n",
      " #   Column                    Non-Null Count  Dtype  \n",
      "---  ------                    --------------  -----  \n",
      " 0   Movie_ID                  4760 non-null   int64  \n",
      " 1   Movie_Title               4760 non-null   object \n",
      " 2   Movie_Genre               4760 non-null   object \n",
      " 3   Movie_Language            4760 non-null   object \n",
      " 4   Movie_Budget              4760 non-null   int64  \n",
      " 5   Movie_Popularity          4760 non-null   float64\n",
      " 6   Movie_Release_Date        4760 non-null   object \n",
      " 7   Movie_Revenue             4760 non-null   int64  \n",
      " 8   Movie_Runtime             4758 non-null   float64\n",
      " 9   Movie_Vote                4760 non-null   float64\n",
      " 10  Movie_Vote_Count          4760 non-null   int64  \n",
      " 11  Movie_Homepage            1699 non-null   object \n",
      " 12  Movie_Keywords            4373 non-null   object \n",
      " 13  Movie_Overview            4757 non-null   object \n",
      " 14  Movie_Production_House    4760 non-null   object \n",
      " 15  Movie_Production_Country  4760 non-null   object \n",
      " 16  Movie_Spoken_Language     4760 non-null   object \n",
      " 17  Movie_Tagline             3942 non-null   object \n",
      " 18  Movie_Cast                4733 non-null   object \n",
      " 19  Movie_Crew                4760 non-null   object \n",
      " 20  Movie_Director            4738 non-null   object \n",
      "dtypes: float64(3), int64(4), object(14)\n",
      "memory usage: 781.1+ KB\n"
     ]
    }
   ],
   "source": [
    "df.info()"
   ]
  },
  {
   "cell_type": "code",
   "execution_count": 6,
   "id": "ce9fc4dc",
   "metadata": {
    "execution": {
     "iopub.execute_input": "2023-06-19T19:21:49.613935Z",
     "iopub.status.busy": "2023-06-19T19:21:49.613570Z",
     "iopub.status.idle": "2023-06-19T19:21:49.620222Z",
     "shell.execute_reply": "2023-06-19T19:21:49.619100Z"
    },
    "papermill": {
     "duration": 0.023432,
     "end_time": "2023-06-19T19:21:49.622537",
     "exception": false,
     "start_time": "2023-06-19T19:21:49.599105",
     "status": "completed"
    },
    "tags": []
   },
   "outputs": [
    {
     "data": {
      "text/plain": [
       "(4760, 21)"
      ]
     },
     "execution_count": 6,
     "metadata": {},
     "output_type": "execute_result"
    }
   ],
   "source": [
    "df.shape\n"
   ]
  },
  {
   "cell_type": "code",
   "execution_count": 7,
   "id": "1bdf9779",
   "metadata": {
    "execution": {
     "iopub.execute_input": "2023-06-19T19:21:49.650242Z",
     "iopub.status.busy": "2023-06-19T19:21:49.649858Z",
     "iopub.status.idle": "2023-06-19T19:21:49.656858Z",
     "shell.execute_reply": "2023-06-19T19:21:49.655860Z"
    },
    "papermill": {
     "duration": 0.02343,
     "end_time": "2023-06-19T19:21:49.659120",
     "exception": false,
     "start_time": "2023-06-19T19:21:49.635690",
     "status": "completed"
    },
    "tags": []
   },
   "outputs": [
    {
     "data": {
      "text/plain": [
       "Index(['Movie_ID', 'Movie_Title', 'Movie_Genre', 'Movie_Language',\n",
       "       'Movie_Budget', 'Movie_Popularity', 'Movie_Release_Date',\n",
       "       'Movie_Revenue', 'Movie_Runtime', 'Movie_Vote', 'Movie_Vote_Count',\n",
       "       'Movie_Homepage', 'Movie_Keywords', 'Movie_Overview',\n",
       "       'Movie_Production_House', 'Movie_Production_Country',\n",
       "       'Movie_Spoken_Language', 'Movie_Tagline', 'Movie_Cast', 'Movie_Crew',\n",
       "       'Movie_Director'],\n",
       "      dtype='object')"
      ]
     },
     "execution_count": 7,
     "metadata": {},
     "output_type": "execute_result"
    }
   ],
   "source": [
    "df.columns"
   ]
  },
  {
   "cell_type": "code",
   "execution_count": 8,
   "id": "845a93ef",
   "metadata": {
    "execution": {
     "iopub.execute_input": "2023-06-19T19:21:49.686881Z",
     "iopub.status.busy": "2023-06-19T19:21:49.686460Z",
     "iopub.status.idle": "2023-06-19T19:21:49.702834Z",
     "shell.execute_reply": "2023-06-19T19:21:49.701686Z"
    },
    "papermill": {
     "duration": 0.033004,
     "end_time": "2023-06-19T19:21:49.705182",
     "exception": false,
     "start_time": "2023-06-19T19:21:49.672178",
     "status": "completed"
    },
    "tags": []
   },
   "outputs": [],
   "source": [
    "df_features = df[['Movie_Genre','Movie_Keywords','Movie_Tagline','Movie_Cast','Movie_Director']].fillna('')"
   ]
  },
  {
   "cell_type": "markdown",
   "id": "6a7974c7",
   "metadata": {
    "papermill": {
     "duration": 0.012738,
     "end_time": "2023-06-19T19:21:49.730970",
     "exception": false,
     "start_time": "2023-06-19T19:21:49.718232",
     "status": "completed"
    },
    "tags": []
   },
   "source": [
    "Selected five existing features to recommend movies.It may vary from one project to another.Like one can add vote counts,budget,language etc."
   ]
  },
  {
   "cell_type": "code",
   "execution_count": 9,
   "id": "a4d9d9c2",
   "metadata": {
    "execution": {
     "iopub.execute_input": "2023-06-19T19:21:49.758619Z",
     "iopub.status.busy": "2023-06-19T19:21:49.758231Z",
     "iopub.status.idle": "2023-06-19T19:21:49.765281Z",
     "shell.execute_reply": "2023-06-19T19:21:49.764314Z"
    },
    "papermill": {
     "duration": 0.023672,
     "end_time": "2023-06-19T19:21:49.767644",
     "exception": false,
     "start_time": "2023-06-19T19:21:49.743972",
     "status": "completed"
    },
    "tags": []
   },
   "outputs": [
    {
     "data": {
      "text/plain": [
       "(4760, 5)"
      ]
     },
     "execution_count": 9,
     "metadata": {},
     "output_type": "execute_result"
    }
   ],
   "source": [
    "df_features.shape"
   ]
  },
  {
   "cell_type": "code",
   "execution_count": 10,
   "id": "d69dcaf5",
   "metadata": {
    "execution": {
     "iopub.execute_input": "2023-06-19T19:21:49.795703Z",
     "iopub.status.busy": "2023-06-19T19:21:49.795300Z",
     "iopub.status.idle": "2023-06-19T19:21:49.811102Z",
     "shell.execute_reply": "2023-06-19T19:21:49.809979Z"
    },
    "papermill": {
     "duration": 0.032522,
     "end_time": "2023-06-19T19:21:49.813380",
     "exception": false,
     "start_time": "2023-06-19T19:21:49.780858",
     "status": "completed"
    },
    "tags": []
   },
   "outputs": [
    {
     "data": {
      "text/html": [
       "<div>\n",
       "<style scoped>\n",
       "    .dataframe tbody tr th:only-of-type {\n",
       "        vertical-align: middle;\n",
       "    }\n",
       "\n",
       "    .dataframe tbody tr th {\n",
       "        vertical-align: top;\n",
       "    }\n",
       "\n",
       "    .dataframe thead th {\n",
       "        text-align: right;\n",
       "    }\n",
       "</style>\n",
       "<table border=\"1\" class=\"dataframe\">\n",
       "  <thead>\n",
       "    <tr style=\"text-align: right;\">\n",
       "      <th></th>\n",
       "      <th>Movie_Genre</th>\n",
       "      <th>Movie_Keywords</th>\n",
       "      <th>Movie_Tagline</th>\n",
       "      <th>Movie_Cast</th>\n",
       "      <th>Movie_Director</th>\n",
       "    </tr>\n",
       "  </thead>\n",
       "  <tbody>\n",
       "    <tr>\n",
       "      <th>0</th>\n",
       "      <td>Crime Comedy</td>\n",
       "      <td>hotel new year's eve witch bet hotel room</td>\n",
       "      <td>Twelve outrageous guests. Four scandalous requ...</td>\n",
       "      <td>Tim Roth Antonio Banderas Jennifer Beals Madon...</td>\n",
       "      <td>Allison Anders</td>\n",
       "    </tr>\n",
       "    <tr>\n",
       "      <th>1</th>\n",
       "      <td>Adventure Action Science Fiction</td>\n",
       "      <td>android galaxy hermit death star lightsaber</td>\n",
       "      <td>A long time ago in a galaxy far, far away...</td>\n",
       "      <td>Mark Hamill Harrison Ford Carrie Fisher Peter ...</td>\n",
       "      <td>George Lucas</td>\n",
       "    </tr>\n",
       "    <tr>\n",
       "      <th>2</th>\n",
       "      <td>Animation Family</td>\n",
       "      <td>father son relationship harbor underwater fish...</td>\n",
       "      <td>There are 3.7 trillion fish in the ocean, they...</td>\n",
       "      <td>Albert Brooks Ellen DeGeneres Alexander Gould ...</td>\n",
       "      <td>Andrew Stanton</td>\n",
       "    </tr>\n",
       "    <tr>\n",
       "      <th>3</th>\n",
       "      <td>Comedy Drama Romance</td>\n",
       "      <td>vietnam veteran hippie mentally disabled runni...</td>\n",
       "      <td>The world will never be the same, once you've ...</td>\n",
       "      <td>Tom Hanks Robin Wright Gary Sinise Mykelti Wil...</td>\n",
       "      <td>Robert Zemeckis</td>\n",
       "    </tr>\n",
       "    <tr>\n",
       "      <th>4</th>\n",
       "      <td>Drama</td>\n",
       "      <td>male nudity female nudity adultery midlife cri...</td>\n",
       "      <td>Look closer.</td>\n",
       "      <td>Kevin Spacey Annette Bening Thora Birch Wes Be...</td>\n",
       "      <td>Sam Mendes</td>\n",
       "    </tr>\n",
       "    <tr>\n",
       "      <th>...</th>\n",
       "      <td>...</td>\n",
       "      <td>...</td>\n",
       "      <td>...</td>\n",
       "      <td>...</td>\n",
       "      <td>...</td>\n",
       "    </tr>\n",
       "    <tr>\n",
       "      <th>4755</th>\n",
       "      <td>Horror</td>\n",
       "      <td></td>\n",
       "      <td>The hot spot where Satan's waitin'.</td>\n",
       "      <td>Lisa Hart Carroll Michael Des Barres Paul Drak...</td>\n",
       "      <td>Pece Dingo</td>\n",
       "    </tr>\n",
       "    <tr>\n",
       "      <th>4756</th>\n",
       "      <td>Comedy Family Drama</td>\n",
       "      <td></td>\n",
       "      <td>It’s better to stand out than to fit in.</td>\n",
       "      <td>Roni Akurati Brighton Sharbino Jason Lee Anjul...</td>\n",
       "      <td>Frank Lotito</td>\n",
       "    </tr>\n",
       "    <tr>\n",
       "      <th>4757</th>\n",
       "      <td>Thriller Drama</td>\n",
       "      <td>christian film sex trafficking</td>\n",
       "      <td>She never knew it could happen to her...</td>\n",
       "      <td>Nicole Smolen Kim Baldwin Ariana Stephens Brys...</td>\n",
       "      <td>Jaco Booyens</td>\n",
       "    </tr>\n",
       "    <tr>\n",
       "      <th>4758</th>\n",
       "      <td>Family</td>\n",
       "      <td></td>\n",
       "      <td></td>\n",
       "      <td></td>\n",
       "      <td></td>\n",
       "    </tr>\n",
       "    <tr>\n",
       "      <th>4759</th>\n",
       "      <td>Documentary</td>\n",
       "      <td>music actors legendary perfomer classic hollyw...</td>\n",
       "      <td></td>\n",
       "      <td>Tony Oppedisano</td>\n",
       "      <td>Simon Napier-Bell</td>\n",
       "    </tr>\n",
       "  </tbody>\n",
       "</table>\n",
       "<p>4760 rows × 5 columns</p>\n",
       "</div>"
      ],
      "text/plain": [
       "                           Movie_Genre  \\\n",
       "0                         Crime Comedy   \n",
       "1     Adventure Action Science Fiction   \n",
       "2                     Animation Family   \n",
       "3                 Comedy Drama Romance   \n",
       "4                                Drama   \n",
       "...                                ...   \n",
       "4755                            Horror   \n",
       "4756               Comedy Family Drama   \n",
       "4757                    Thriller Drama   \n",
       "4758                            Family   \n",
       "4759                       Documentary   \n",
       "\n",
       "                                         Movie_Keywords  \\\n",
       "0             hotel new year's eve witch bet hotel room   \n",
       "1           android galaxy hermit death star lightsaber   \n",
       "2     father son relationship harbor underwater fish...   \n",
       "3     vietnam veteran hippie mentally disabled runni...   \n",
       "4     male nudity female nudity adultery midlife cri...   \n",
       "...                                                 ...   \n",
       "4755                                                      \n",
       "4756                                                      \n",
       "4757                     christian film sex trafficking   \n",
       "4758                                                      \n",
       "4759  music actors legendary perfomer classic hollyw...   \n",
       "\n",
       "                                          Movie_Tagline  \\\n",
       "0     Twelve outrageous guests. Four scandalous requ...   \n",
       "1          A long time ago in a galaxy far, far away...   \n",
       "2     There are 3.7 trillion fish in the ocean, they...   \n",
       "3     The world will never be the same, once you've ...   \n",
       "4                                          Look closer.   \n",
       "...                                                 ...   \n",
       "4755                The hot spot where Satan's waitin'.   \n",
       "4756           It’s better to stand out than to fit in.   \n",
       "4757           She never knew it could happen to her...   \n",
       "4758                                                      \n",
       "4759                                                      \n",
       "\n",
       "                                             Movie_Cast     Movie_Director  \n",
       "0     Tim Roth Antonio Banderas Jennifer Beals Madon...     Allison Anders  \n",
       "1     Mark Hamill Harrison Ford Carrie Fisher Peter ...       George Lucas  \n",
       "2     Albert Brooks Ellen DeGeneres Alexander Gould ...     Andrew Stanton  \n",
       "3     Tom Hanks Robin Wright Gary Sinise Mykelti Wil...    Robert Zemeckis  \n",
       "4     Kevin Spacey Annette Bening Thora Birch Wes Be...         Sam Mendes  \n",
       "...                                                 ...                ...  \n",
       "4755  Lisa Hart Carroll Michael Des Barres Paul Drak...         Pece Dingo  \n",
       "4756  Roni Akurati Brighton Sharbino Jason Lee Anjul...       Frank Lotito  \n",
       "4757  Nicole Smolen Kim Baldwin Ariana Stephens Brys...       Jaco Booyens  \n",
       "4758                                                                        \n",
       "4759                                    Tony Oppedisano  Simon Napier-Bell  \n",
       "\n",
       "[4760 rows x 5 columns]"
      ]
     },
     "execution_count": 10,
     "metadata": {},
     "output_type": "execute_result"
    }
   ],
   "source": [
    "df_features"
   ]
  },
  {
   "cell_type": "code",
   "execution_count": 11,
   "id": "e813795c",
   "metadata": {
    "execution": {
     "iopub.execute_input": "2023-06-19T19:21:49.844486Z",
     "iopub.status.busy": "2023-06-19T19:21:49.844090Z",
     "iopub.status.idle": "2023-06-19T19:21:49.858060Z",
     "shell.execute_reply": "2023-06-19T19:21:49.856959Z"
    },
    "papermill": {
     "duration": 0.031738,
     "end_time": "2023-06-19T19:21:49.860301",
     "exception": false,
     "start_time": "2023-06-19T19:21:49.828563",
     "status": "completed"
    },
    "tags": []
   },
   "outputs": [],
   "source": [
    "x = df_features['Movie_Genre'] + ' ' + df_features['Movie_Keywords'] + ' ' + df_features['Movie_Tagline'] + ' ' + df_features['Movie_Cast'] + ' ' + df_features['Movie_Director']"
   ]
  },
  {
   "cell_type": "code",
   "execution_count": 12,
   "id": "c2e9f298",
   "metadata": {
    "execution": {
     "iopub.execute_input": "2023-06-19T19:21:49.889331Z",
     "iopub.status.busy": "2023-06-19T19:21:49.888960Z",
     "iopub.status.idle": "2023-06-19T19:21:49.897534Z",
     "shell.execute_reply": "2023-06-19T19:21:49.896498Z"
    },
    "papermill": {
     "duration": 0.026056,
     "end_time": "2023-06-19T19:21:49.899875",
     "exception": false,
     "start_time": "2023-06-19T19:21:49.873819",
     "status": "completed"
    },
    "tags": []
   },
   "outputs": [
    {
     "data": {
      "text/plain": [
       "0       Crime Comedy hotel new year's eve witch bet ho...\n",
       "1       Adventure Action Science Fiction android galax...\n",
       "2       Animation Family father son relationship harbo...\n",
       "3       Comedy Drama Romance vietnam veteran hippie me...\n",
       "4       Drama male nudity female nudity adultery midli...\n",
       "                              ...                        \n",
       "4755    Horror  The hot spot where Satan's waitin'. Li...\n",
       "4756    Comedy Family Drama  It’s better to stand out ...\n",
       "4757    Thriller Drama christian film sex trafficking ...\n",
       "4758                                           Family    \n",
       "4759    Documentary music actors legendary perfomer cl...\n",
       "Length: 4760, dtype: object"
      ]
     },
     "execution_count": 12,
     "metadata": {},
     "output_type": "execute_result"
    }
   ],
   "source": [
    "x"
   ]
  },
  {
   "cell_type": "code",
   "execution_count": 13,
   "id": "a53143b9",
   "metadata": {
    "execution": {
     "iopub.execute_input": "2023-06-19T19:21:49.929694Z",
     "iopub.status.busy": "2023-06-19T19:21:49.928686Z",
     "iopub.status.idle": "2023-06-19T19:21:49.935701Z",
     "shell.execute_reply": "2023-06-19T19:21:49.934460Z"
    },
    "papermill": {
     "duration": 0.024285,
     "end_time": "2023-06-19T19:21:49.937882",
     "exception": false,
     "start_time": "2023-06-19T19:21:49.913597",
     "status": "completed"
    },
    "tags": []
   },
   "outputs": [
    {
     "data": {
      "text/plain": [
       "(4760,)"
      ]
     },
     "execution_count": 13,
     "metadata": {},
     "output_type": "execute_result"
    }
   ],
   "source": [
    "x.shape"
   ]
  },
  {
   "cell_type": "code",
   "execution_count": 14,
   "id": "bd5bc0de",
   "metadata": {
    "execution": {
     "iopub.execute_input": "2023-06-19T19:21:49.967461Z",
     "iopub.status.busy": "2023-06-19T19:21:49.967038Z",
     "iopub.status.idle": "2023-06-19T19:21:51.270101Z",
     "shell.execute_reply": "2023-06-19T19:21:51.269022Z"
    },
    "papermill": {
     "duration": 1.321067,
     "end_time": "2023-06-19T19:21:51.272877",
     "exception": false,
     "start_time": "2023-06-19T19:21:49.951810",
     "status": "completed"
    },
    "tags": []
   },
   "outputs": [],
   "source": [
    "from sklearn.feature_extraction.text import TfidfVectorizer"
   ]
  },
  {
   "cell_type": "code",
   "execution_count": 15,
   "id": "1e618264",
   "metadata": {
    "execution": {
     "iopub.execute_input": "2023-06-19T19:21:51.302747Z",
     "iopub.status.busy": "2023-06-19T19:21:51.302330Z",
     "iopub.status.idle": "2023-06-19T19:21:51.307237Z",
     "shell.execute_reply": "2023-06-19T19:21:51.306066Z"
    },
    "papermill": {
     "duration": 0.022713,
     "end_time": "2023-06-19T19:21:51.309641",
     "exception": false,
     "start_time": "2023-06-19T19:21:51.286928",
     "status": "completed"
    },
    "tags": []
   },
   "outputs": [],
   "source": [
    "tfidf = TfidfVectorizer()"
   ]
  },
  {
   "cell_type": "code",
   "execution_count": 16,
   "id": "ffe32cb7",
   "metadata": {
    "execution": {
     "iopub.execute_input": "2023-06-19T19:21:51.340065Z",
     "iopub.status.busy": "2023-06-19T19:21:51.339686Z",
     "iopub.status.idle": "2023-06-19T19:21:51.613534Z",
     "shell.execute_reply": "2023-06-19T19:21:51.612611Z"
    },
    "papermill": {
     "duration": 0.292984,
     "end_time": "2023-06-19T19:21:51.616711",
     "exception": false,
     "start_time": "2023-06-19T19:21:51.323727",
     "status": "completed"
    },
    "tags": []
   },
   "outputs": [],
   "source": [
    "x= tfidf.fit_transform(x)"
   ]
  },
  {
   "cell_type": "code",
   "execution_count": 17,
   "id": "48746381",
   "metadata": {
    "execution": {
     "iopub.execute_input": "2023-06-19T19:21:51.646377Z",
     "iopub.status.busy": "2023-06-19T19:21:51.646003Z",
     "iopub.status.idle": "2023-06-19T19:21:51.652734Z",
     "shell.execute_reply": "2023-06-19T19:21:51.651676Z"
    },
    "papermill": {
     "duration": 0.024267,
     "end_time": "2023-06-19T19:21:51.655085",
     "exception": false,
     "start_time": "2023-06-19T19:21:51.630818",
     "status": "completed"
    },
    "tags": []
   },
   "outputs": [
    {
     "data": {
      "text/plain": [
       "(4760, 17258)"
      ]
     },
     "execution_count": 17,
     "metadata": {},
     "output_type": "execute_result"
    }
   ],
   "source": [
    "x.shape\n"
   ]
  },
  {
   "cell_type": "code",
   "execution_count": 18,
   "id": "0cf2cd9e",
   "metadata": {
    "execution": {
     "iopub.execute_input": "2023-06-19T19:21:51.684967Z",
     "iopub.status.busy": "2023-06-19T19:21:51.684553Z",
     "iopub.status.idle": "2023-06-19T19:21:51.692380Z",
     "shell.execute_reply": "2023-06-19T19:21:51.690834Z"
    },
    "papermill": {
     "duration": 0.025588,
     "end_time": "2023-06-19T19:21:51.694725",
     "exception": false,
     "start_time": "2023-06-19T19:21:51.669137",
     "status": "completed"
    },
    "tags": []
   },
   "outputs": [
    {
     "name": "stdout",
     "output_type": "stream",
     "text": [
      "  (0, 617)\t0.1633382144407513\n",
      "  (0, 492)\t0.1432591540388685\n",
      "  (0, 15413)\t0.1465525095337543\n",
      "  (0, 9675)\t0.14226057295252661\n",
      "  (0, 9465)\t0.1659841367820977\n",
      "  (0, 1390)\t0.16898383612799558\n",
      "  (0, 7825)\t0.09799561597509843\n",
      "  (0, 1214)\t0.13865857545144072\n",
      "  (0, 729)\t0.13415063359531618\n",
      "  (0, 13093)\t0.1432591540388685\n",
      "  (0, 15355)\t0.10477815972666779\n",
      "  (0, 9048)\t0.0866842116160778\n",
      "  (0, 11161)\t0.06250380151644369\n",
      "  (0, 16773)\t0.17654247479915475\n",
      "  (0, 5612)\t0.08603537588547631\n",
      "  (0, 16735)\t0.10690083751525419\n",
      "  (0, 7904)\t0.13348000542112332\n",
      "  (0, 15219)\t0.09800472886453934\n",
      "  (0, 11242)\t0.07277788238484746\n",
      "  (0, 3878)\t0.11998399582562203\n",
      "  (0, 5499)\t0.11454057510303811\n",
      "  (0, 7071)\t0.19822417598406614\n",
      "  (0, 7454)\t0.14745635785412262\n",
      "  (0, 1495)\t0.19712637387361423\n",
      "  (0, 9206)\t0.15186283580984414\n",
      "  :\t:\n",
      "  (4757, 5455)\t0.12491480594769522\n",
      "  (4757, 2967)\t0.16273475835631626\n",
      "  (4757, 8464)\t0.23522565554066333\n",
      "  (4757, 6938)\t0.17088173678136628\n",
      "  (4757, 8379)\t0.17480603856721913\n",
      "  (4757, 15303)\t0.07654356007668191\n",
      "  (4757, 15384)\t0.09754322497537371\n",
      "  (4757, 7649)\t0.11479421494340192\n",
      "  (4757, 10896)\t0.14546473055066447\n",
      "  (4757, 4494)\t0.05675298448720501\n",
      "  (4758, 5238)\t1.0\n",
      "  (4759, 11264)\t0.33947721804318337\n",
      "  (4759, 11708)\t0.33947721804318337\n",
      "  (4759, 205)\t0.3237911628497312\n",
      "  (4759, 8902)\t0.3040290704566037\n",
      "  (4759, 14062)\t0.3237911628497312\n",
      "  (4759, 3058)\t0.2812896191863103\n",
      "  (4759, 7130)\t0.26419662449963793\n",
      "  (4759, 10761)\t0.3126617295732147\n",
      "  (4759, 4358)\t0.18306542312175342\n",
      "  (4759, 14051)\t0.20084315377640435\n",
      "  (4759, 5690)\t0.19534291014627303\n",
      "  (4759, 15431)\t0.19628653185946862\n",
      "  (4759, 1490)\t0.21197258705292082\n",
      "  (4759, 10666)\t0.15888268987343043\n"
     ]
    }
   ],
   "source": [
    "print(x)"
   ]
  },
  {
   "cell_type": "markdown",
   "id": "bc47793e",
   "metadata": {
    "papermill": {
     "duration": 0.013995,
     "end_time": "2023-06-19T19:21:51.723391",
     "exception": false,
     "start_time": "2023-06-19T19:21:51.709396",
     "status": "completed"
    },
    "tags": []
   },
   "source": [
    "Get similarity Score using Cosine Similarity"
   ]
  },
  {
   "cell_type": "code",
   "execution_count": 19,
   "id": "6b5062af",
   "metadata": {
    "execution": {
     "iopub.execute_input": "2023-06-19T19:21:51.753180Z",
     "iopub.status.busy": "2023-06-19T19:21:51.752758Z",
     "iopub.status.idle": "2023-06-19T19:21:51.848980Z",
     "shell.execute_reply": "2023-06-19T19:21:51.847519Z"
    },
    "papermill": {
     "duration": 0.114233,
     "end_time": "2023-06-19T19:21:51.851635",
     "exception": false,
     "start_time": "2023-06-19T19:21:51.737402",
     "status": "completed"
    },
    "tags": []
   },
   "outputs": [],
   "source": [
    "from sklearn.metrics.pairwise import cosine_similarity"
   ]
  },
  {
   "cell_type": "code",
   "execution_count": 20,
   "id": "17f98cf9",
   "metadata": {
    "execution": {
     "iopub.execute_input": "2023-06-19T19:21:51.882685Z",
     "iopub.status.busy": "2023-06-19T19:21:51.881685Z",
     "iopub.status.idle": "2023-06-19T19:21:52.689999Z",
     "shell.execute_reply": "2023-06-19T19:21:52.688865Z"
    },
    "papermill": {
     "duration": 0.826625,
     "end_time": "2023-06-19T19:21:52.692884",
     "exception": false,
     "start_time": "2023-06-19T19:21:51.866259",
     "status": "completed"
    },
    "tags": []
   },
   "outputs": [],
   "source": [
    "Similarity_Score = cosine_similarity(x)"
   ]
  },
  {
   "cell_type": "code",
   "execution_count": 21,
   "id": "b6dbe881",
   "metadata": {
    "execution": {
     "iopub.execute_input": "2023-06-19T19:21:52.723815Z",
     "iopub.status.busy": "2023-06-19T19:21:52.723379Z",
     "iopub.status.idle": "2023-06-19T19:21:52.730752Z",
     "shell.execute_reply": "2023-06-19T19:21:52.729818Z"
    },
    "papermill": {
     "duration": 0.025852,
     "end_time": "2023-06-19T19:21:52.732975",
     "exception": false,
     "start_time": "2023-06-19T19:21:52.707123",
     "status": "completed"
    },
    "tags": []
   },
   "outputs": [
    {
     "data": {
      "text/plain": [
       "array([[1.        , 0.01351235, 0.03570468, ..., 0.        , 0.        ,\n",
       "        0.        ],\n",
       "       [0.01351235, 1.        , 0.00806674, ..., 0.        , 0.        ,\n",
       "        0.        ],\n",
       "       [0.03570468, 0.00806674, 1.        , ..., 0.        , 0.08014876,\n",
       "        0.        ],\n",
       "       ...,\n",
       "       [0.        , 0.        , 0.        , ..., 1.        , 0.        ,\n",
       "        0.        ],\n",
       "       [0.        , 0.        , 0.08014876, ..., 0.        , 1.        ,\n",
       "        0.        ],\n",
       "       [0.        , 0.        , 0.        , ..., 0.        , 0.        ,\n",
       "        1.        ]])"
      ]
     },
     "execution_count": 21,
     "metadata": {},
     "output_type": "execute_result"
    }
   ],
   "source": [
    "Similarity_Score"
   ]
  },
  {
   "cell_type": "code",
   "execution_count": 22,
   "id": "44abd10b",
   "metadata": {
    "execution": {
     "iopub.execute_input": "2023-06-19T19:21:52.764166Z",
     "iopub.status.busy": "2023-06-19T19:21:52.763345Z",
     "iopub.status.idle": "2023-06-19T19:21:52.769930Z",
     "shell.execute_reply": "2023-06-19T19:21:52.769205Z"
    },
    "papermill": {
     "duration": 0.024748,
     "end_time": "2023-06-19T19:21:52.772025",
     "exception": false,
     "start_time": "2023-06-19T19:21:52.747277",
     "status": "completed"
    },
    "tags": []
   },
   "outputs": [
    {
     "data": {
      "text/plain": [
       "(4760, 4760)"
      ]
     },
     "execution_count": 22,
     "metadata": {},
     "output_type": "execute_result"
    }
   ],
   "source": [
    "Similarity_Score.shape"
   ]
  },
  {
   "cell_type": "markdown",
   "id": "75fbef15",
   "metadata": {
    "papermill": {
     "duration": 0.014935,
     "end_time": "2023-06-19T19:21:52.802283",
     "exception": false,
     "start_time": "2023-06-19T19:21:52.787348",
     "status": "completed"
    },
    "tags": []
   },
   "source": [
    "Get movie name as input From user and validate for closest spelling"
   ]
  },
  {
   "cell_type": "code",
   "execution_count": 23,
   "id": "b7b9b678",
   "metadata": {
    "execution": {
     "iopub.execute_input": "2023-06-19T19:21:52.833308Z",
     "iopub.status.busy": "2023-06-19T19:21:52.832878Z",
     "iopub.status.idle": "2023-06-19T19:21:53.347794Z",
     "shell.execute_reply": "2023-06-19T19:21:53.346596Z"
    },
    "papermill": {
     "duration": 0.532423,
     "end_time": "2023-06-19T19:21:53.349166",
     "exception": true,
     "start_time": "2023-06-19T19:21:52.816743",
     "status": "failed"
    },
    "tags": []
   },
   "outputs": [
    {
     "ename": "StdinNotImplementedError",
     "evalue": "raw_input was called, but this frontend does not support input requests.",
     "output_type": "error",
     "traceback": [
      "\u001b[0;31m---------------------------------------------------------------------------\u001b[0m",
      "\u001b[0;31mStdinNotImplementedError\u001b[0m                  Traceback (most recent call last)",
      "Cell \u001b[0;32mIn[23], line 1\u001b[0m\n\u001b[0;32m----> 1\u001b[0m Favourite_Movie_Name \u001b[38;5;241m=\u001b[39m \u001b[38;5;28;43minput\u001b[39;49m\u001b[43m(\u001b[49m\u001b[38;5;124;43m\"\u001b[39;49m\u001b[38;5;124;43mEnter your Favourite Movie Name :\u001b[39;49m\u001b[38;5;124;43m\"\u001b[39;49m\u001b[43m)\u001b[49m\n",
      "File \u001b[0;32m/opt/conda/lib/python3.10/site-packages/ipykernel/kernelbase.py:1190\u001b[0m, in \u001b[0;36mKernel.raw_input\u001b[0;34m(self, prompt)\u001b[0m\n\u001b[1;32m   1188\u001b[0m \u001b[38;5;28;01mif\u001b[39;00m \u001b[38;5;129;01mnot\u001b[39;00m \u001b[38;5;28mself\u001b[39m\u001b[38;5;241m.\u001b[39m_allow_stdin:\n\u001b[1;32m   1189\u001b[0m     msg \u001b[38;5;241m=\u001b[39m \u001b[38;5;124m\"\u001b[39m\u001b[38;5;124mraw_input was called, but this frontend does not support input requests.\u001b[39m\u001b[38;5;124m\"\u001b[39m\n\u001b[0;32m-> 1190\u001b[0m     \u001b[38;5;28;01mraise\u001b[39;00m StdinNotImplementedError(msg)\n\u001b[1;32m   1191\u001b[0m \u001b[38;5;28;01mreturn\u001b[39;00m \u001b[38;5;28mself\u001b[39m\u001b[38;5;241m.\u001b[39m_input_request(\n\u001b[1;32m   1192\u001b[0m     \u001b[38;5;28mstr\u001b[39m(prompt),\n\u001b[1;32m   1193\u001b[0m     \u001b[38;5;28mself\u001b[39m\u001b[38;5;241m.\u001b[39m_parent_ident[\u001b[38;5;124m\"\u001b[39m\u001b[38;5;124mshell\u001b[39m\u001b[38;5;124m\"\u001b[39m],\n\u001b[1;32m   1194\u001b[0m     \u001b[38;5;28mself\u001b[39m\u001b[38;5;241m.\u001b[39mget_parent(\u001b[38;5;124m\"\u001b[39m\u001b[38;5;124mshell\u001b[39m\u001b[38;5;124m\"\u001b[39m),\n\u001b[1;32m   1195\u001b[0m     password\u001b[38;5;241m=\u001b[39m\u001b[38;5;28;01mFalse\u001b[39;00m,\n\u001b[1;32m   1196\u001b[0m )\n",
      "\u001b[0;31mStdinNotImplementedError\u001b[0m: raw_input was called, but this frontend does not support input requests."
     ]
    }
   ],
   "source": [
    "Favourite_Movie_Name = input(\"Enter your Favourite Movie Name :\")"
   ]
  },
  {
   "cell_type": "code",
   "execution_count": null,
   "id": "77e34345",
   "metadata": {
    "execution": {
     "iopub.execute_input": "2023-06-19T19:16:06.512067Z",
     "iopub.status.busy": "2023-06-19T19:16:06.511656Z",
     "iopub.status.idle": "2023-06-19T19:16:06.517964Z",
     "shell.execute_reply": "2023-06-19T19:16:06.516682Z",
     "shell.execute_reply.started": "2023-06-19T19:16:06.512037Z"
    },
    "papermill": {
     "duration": null,
     "end_time": null,
     "exception": null,
     "start_time": null,
     "status": "pending"
    },
    "tags": []
   },
   "outputs": [],
   "source": [
    "All_Movies_Title_List= df['Movie_Title'].tolist()"
   ]
  },
  {
   "cell_type": "code",
   "execution_count": null,
   "id": "1378085a",
   "metadata": {
    "execution": {
     "iopub.execute_input": "2023-06-19T19:16:20.671036Z",
     "iopub.status.busy": "2023-06-19T19:16:20.670617Z",
     "iopub.status.idle": "2023-06-19T19:16:20.676431Z",
     "shell.execute_reply": "2023-06-19T19:16:20.674990Z",
     "shell.execute_reply.started": "2023-06-19T19:16:20.671003Z"
    },
    "papermill": {
     "duration": null,
     "end_time": null,
     "exception": null,
     "start_time": null,
     "status": "pending"
    },
    "tags": []
   },
   "outputs": [],
   "source": [
    "import difflib"
   ]
  },
  {
   "cell_type": "code",
   "execution_count": null,
   "id": "1056eb34",
   "metadata": {
    "execution": {
     "iopub.execute_input": "2023-06-19T19:16:31.721397Z",
     "iopub.status.busy": "2023-06-19T19:16:31.720995Z",
     "iopub.status.idle": "2023-06-19T19:16:31.751902Z",
     "shell.execute_reply": "2023-06-19T19:16:31.750532Z",
     "shell.execute_reply.started": "2023-06-19T19:16:31.721367Z"
    },
    "papermill": {
     "duration": null,
     "end_time": null,
     "exception": null,
     "start_time": null,
     "status": "pending"
    },
    "tags": []
   },
   "outputs": [],
   "source": [
    "Movie_Recommendation  = difflib.get_close_matches(Favourite_Movie_Name,All_Movies_Title_List)\n",
    "print(Movie_Recommendation)"
   ]
  },
  {
   "cell_type": "code",
   "execution_count": null,
   "id": "4afeb3ad",
   "metadata": {
    "execution": {
     "iopub.execute_input": "2023-06-19T19:16:41.311375Z",
     "iopub.status.busy": "2023-06-19T19:16:41.310965Z",
     "iopub.status.idle": "2023-06-19T19:16:41.317384Z",
     "shell.execute_reply": "2023-06-19T19:16:41.316133Z",
     "shell.execute_reply.started": "2023-06-19T19:16:41.311344Z"
    },
    "papermill": {
     "duration": null,
     "end_time": null,
     "exception": null,
     "start_time": null,
     "status": "pending"
    },
    "tags": []
   },
   "outputs": [],
   "source": [
    "Close_Match = Movie_Recommendation[0]\n",
    "print(Close_Match)"
   ]
  },
  {
   "cell_type": "code",
   "execution_count": null,
   "id": "28ec5d03",
   "metadata": {
    "execution": {
     "iopub.execute_input": "2023-06-19T19:17:43.857717Z",
     "iopub.status.busy": "2023-06-19T19:17:43.857342Z",
     "iopub.status.idle": "2023-06-19T19:17:43.868278Z",
     "shell.execute_reply": "2023-06-19T19:17:43.867276Z",
     "shell.execute_reply.started": "2023-06-19T19:17:43.857691Z"
    },
    "papermill": {
     "duration": null,
     "end_time": null,
     "exception": null,
     "start_time": null,
     "status": "pending"
    },
    "tags": []
   },
   "outputs": [],
   "source": [
    "Index_0f_Close_Match_Movie = df[df.Movie_Title == Close_Match]['Movie_ID'].values[0]\n",
    "print(Index_0f_Close_Match_Movie)"
   ]
  },
  {
   "cell_type": "code",
   "execution_count": null,
   "id": "4c72cdd8",
   "metadata": {
    "execution": {
     "iopub.execute_input": "2023-06-19T19:17:53.540076Z",
     "iopub.status.busy": "2023-06-19T19:17:53.539494Z",
     "iopub.status.idle": "2023-06-19T19:17:53.568477Z",
     "shell.execute_reply": "2023-06-19T19:17:53.567279Z",
     "shell.execute_reply.started": "2023-06-19T19:17:53.540036Z"
    },
    "papermill": {
     "duration": null,
     "end_time": null,
     "exception": null,
     "start_time": null,
     "status": "pending"
    },
    "tags": []
   },
   "outputs": [],
   "source": [
    "# getting a list of similar movies\n",
    "Recommendation_Score=list(enumerate(Similarity_Score[Index_0f_Close_Match_Movie]))\n",
    "print(Recommendation_Score)"
   ]
  },
  {
   "cell_type": "code",
   "execution_count": null,
   "id": "3d980135",
   "metadata": {
    "execution": {
     "iopub.execute_input": "2023-06-19T19:18:09.443172Z",
     "iopub.status.busy": "2023-06-19T19:18:09.442779Z",
     "iopub.status.idle": "2023-06-19T19:18:09.449382Z",
     "shell.execute_reply": "2023-06-19T19:18:09.448521Z",
     "shell.execute_reply.started": "2023-06-19T19:18:09.443142Z"
    },
    "papermill": {
     "duration": null,
     "end_time": null,
     "exception": null,
     "start_time": null,
     "status": "pending"
    },
    "tags": []
   },
   "outputs": [],
   "source": [
    "len(Recommendation_Score)"
   ]
  },
  {
   "cell_type": "markdown",
   "id": "dfec6771",
   "metadata": {
    "papermill": {
     "duration": null,
     "end_time": null,
     "exception": null,
     "start_time": null,
     "status": "pending"
    },
    "tags": []
   },
   "source": [
    "Get all movies sort based on recommendations score wrt favourite movie"
   ]
  },
  {
   "cell_type": "code",
   "execution_count": null,
   "id": "6efc5e49",
   "metadata": {
    "execution": {
     "iopub.execute_input": "2023-06-19T19:19:28.261674Z",
     "iopub.status.busy": "2023-06-19T19:19:28.261271Z",
     "iopub.status.idle": "2023-06-19T19:19:28.279924Z",
     "shell.execute_reply": "2023-06-19T19:19:28.278952Z",
     "shell.execute_reply.started": "2023-06-19T19:19:28.261642Z"
    },
    "papermill": {
     "duration": null,
     "end_time": null,
     "exception": null,
     "start_time": null,
     "status": "pending"
    },
    "tags": []
   },
   "outputs": [],
   "source": [
    "#sorting the movies based on their similarity score\n",
    "Sorted_Similar_Movies = sorted(Recommendation_Score, key = lambda x:x[1], reverse = True)\n",
    "print(Sorted_Similar_Movies)"
   ]
  },
  {
   "cell_type": "code",
   "execution_count": null,
   "id": "bf3fcbe5",
   "metadata": {
    "execution": {
     "iopub.execute_input": "2023-06-19T19:19:43.504851Z",
     "iopub.status.busy": "2023-06-19T19:19:43.504486Z",
     "iopub.status.idle": "2023-06-19T19:19:44.790001Z",
     "shell.execute_reply": "2023-06-19T19:19:44.788970Z",
     "shell.execute_reply.started": "2023-06-19T19:19:43.504824Z"
    },
    "papermill": {
     "duration": null,
     "end_time": null,
     "exception": null,
     "start_time": null,
     "status": "pending"
    },
    "tags": []
   },
   "outputs": [],
   "source": [
    "print('Top 30 Movies Suggested for You:\\n')\n",
    "i = 1\n",
    "for movie in Sorted_Similar_Movies:\n",
    "    indx = movie[0]\n",
    "    title_from_index = df[df.index == indx]['Movie_Title'].values[0]\n",
    "    if i < 31:\n",
    "        print(i, '.', title_from_index)\n",
    "        i += 1"
   ]
  },
  {
   "cell_type": "code",
   "execution_count": null,
   "id": "1fecec15",
   "metadata": {
    "execution": {
     "iopub.execute_input": "2023-06-19T19:19:56.542249Z",
     "iopub.status.busy": "2023-06-19T19:19:56.541856Z",
     "iopub.status.idle": "2023-06-19T19:20:09.430145Z",
     "shell.execute_reply": "2023-06-19T19:20:09.428987Z",
     "shell.execute_reply.started": "2023-06-19T19:19:56.542221Z"
    },
    "papermill": {
     "duration": null,
     "end_time": null,
     "exception": null,
     "start_time": null,
     "status": "pending"
    },
    "tags": []
   },
   "outputs": [],
   "source": [
    "import difflib\n",
    "\n",
    "Movie_Name = input('Enter your favourite movie name: ')\n",
    "List_of_all_titles = df['Movie_Title'].tolist()\n",
    "\n",
    "Close_Match = difflib.get_close_matches(Movie_Name, List_of_all_titles)\n",
    "Close_Match = Close_Match[0] if Close_Match else None\n",
    "\n",
    "Index_of_Movie = df[df['Movie_Title'] == Close_Match].index[0]\n",
    "\n",
    "Recommendation_Score = list(enumerate(Similarity_Score[Index_of_Movie]))\n",
    "sorted_similar_movies = sorted(Recommendation_Score, key=lambda x: x[1], reverse=True)[:10]\n",
    "\n",
    "print(\"Top 10 Movies suggested for you:\\n\")\n",
    "for movie in sorted_similar_movies:\n",
    "    movie_index = movie[0]\n",
    "    movie_title = df.loc[movie_index, 'Movie_Title']\n",
    "    print(movie_title)"
   ]
  }
 ],
 "metadata": {
  "kernelspec": {
   "display_name": "Python 3",
   "language": "python",
   "name": "python3"
  },
  "language_info": {
   "codemirror_mode": {
    "name": "ipython",
    "version": 3
   },
   "file_extension": ".py",
   "mimetype": "text/x-python",
   "name": "python",
   "nbconvert_exporter": "python",
   "pygments_lexer": "ipython3",
   "version": "3.10.10"
  },
  "papermill": {
   "default_parameters": {},
   "duration": 18.672336,
   "end_time": "2023-06-19T19:21:54.387966",
   "environment_variables": {},
   "exception": true,
   "input_path": "__notebook__.ipynb",
   "output_path": "__notebook__.ipynb",
   "parameters": {},
   "start_time": "2023-06-19T19:21:35.715630",
   "version": "2.4.0"
  }
 },
 "nbformat": 4,
 "nbformat_minor": 5
}
